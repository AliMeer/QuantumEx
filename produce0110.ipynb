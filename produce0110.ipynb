{
  "nbformat": 4,
  "nbformat_minor": 0,
  "metadata": {
    "colab": {
      "name": "assnB.ipynb",
      "provenance": []
    },
    "kernelspec": {
      "name": "python3",
      "display_name": "Python 3"
    }
  },
  "cells": [
    {
      "cell_type": "code",
      "metadata": {
        "id": "aKmwFuTnaSd1",
        "outputId": "c4a128fe-98ee-4b41-9fa6-6a27d05d414c",
        "colab": {
          "base_uri": "https://localhost:8080/",
          "height": 726
        }
      },
      "source": [
        "pip install pennylane-cirq"
      ],
      "execution_count": 1,
      "outputs": [
        {
          "output_type": "stream",
          "text": [
            "Requirement already satisfied: pennylane-cirq in /usr/local/lib/python3.6/dist-packages (0.11.0)\n",
            "Requirement already satisfied: pennylane>=0.11 in /usr/local/lib/python3.6/dist-packages (from pennylane-cirq) (0.11.0)\n",
            "Requirement already satisfied: cirq in /usr/local/lib/python3.6/dist-packages (from pennylane-cirq) (0.8.2)\n",
            "Requirement already satisfied: toml in /usr/local/lib/python3.6/dist-packages (from pennylane>=0.11->pennylane-cirq) (0.10.1)\n",
            "Requirement already satisfied: semantic-version==2.6 in /usr/local/lib/python3.6/dist-packages (from pennylane>=0.11->pennylane-cirq) (2.6.0)\n",
            "Requirement already satisfied: autograd in /usr/local/lib/python3.6/dist-packages (from pennylane>=0.11->pennylane-cirq) (1.3)\n",
            "Requirement already satisfied: appdirs in /usr/local/lib/python3.6/dist-packages (from pennylane>=0.11->pennylane-cirq) (1.4.4)\n",
            "Requirement already satisfied: numpy in /usr/local/lib/python3.6/dist-packages (from pennylane>=0.11->pennylane-cirq) (1.18.5)\n",
            "Requirement already satisfied: networkx in /usr/local/lib/python3.6/dist-packages (from pennylane>=0.11->pennylane-cirq) (2.5)\n",
            "Requirement already satisfied: scipy in /usr/local/lib/python3.6/dist-packages (from pennylane>=0.11->pennylane-cirq) (1.4.1)\n",
            "Requirement already satisfied: google-api-core[grpc]<2.0.0dev,>=1.14.0 in /usr/local/lib/python3.6/dist-packages (from cirq->pennylane-cirq) (1.16.0)\n",
            "Requirement already satisfied: freezegun~=0.3.15 in /usr/local/lib/python3.6/dist-packages (from cirq->pennylane-cirq) (0.3.15)\n",
            "Requirement already satisfied: typing-extensions in /usr/local/lib/python3.6/dist-packages (from cirq->pennylane-cirq) (3.7.4.3)\n",
            "Requirement already satisfied: requests~=2.18 in /usr/local/lib/python3.6/dist-packages (from cirq->pennylane-cirq) (2.23.0)\n",
            "Requirement already satisfied: sortedcontainers~=2.0 in /usr/local/lib/python3.6/dist-packages (from cirq->pennylane-cirq) (2.2.2)\n",
            "Requirement already satisfied: matplotlib~=3.0 in /usr/local/lib/python3.6/dist-packages (from cirq->pennylane-cirq) (3.2.2)\n",
            "Requirement already satisfied: dataclasses; python_version < \"3.7\" in /usr/local/lib/python3.6/dist-packages (from cirq->pennylane-cirq) (0.7)\n",
            "Requirement already satisfied: pandas in /usr/local/lib/python3.6/dist-packages (from cirq->pennylane-cirq) (1.0.5)\n",
            "Requirement already satisfied: sympy in /usr/local/lib/python3.6/dist-packages (from cirq->pennylane-cirq) (1.6.2)\n",
            "Requirement already satisfied: protobuf~=3.12.0 in /usr/local/lib/python3.6/dist-packages (from cirq->pennylane-cirq) (3.12.4)\n",
            "Requirement already satisfied: future>=0.15.2 in /usr/local/lib/python3.6/dist-packages (from autograd->pennylane>=0.11->pennylane-cirq) (0.16.0)\n",
            "Requirement already satisfied: decorator>=4.3.0 in /usr/local/lib/python3.6/dist-packages (from networkx->pennylane>=0.11->pennylane-cirq) (4.4.2)\n",
            "Requirement already satisfied: pytz in /usr/local/lib/python3.6/dist-packages (from google-api-core[grpc]<2.0.0dev,>=1.14.0->cirq->pennylane-cirq) (2018.9)\n",
            "Requirement already satisfied: setuptools>=34.0.0 in /usr/local/lib/python3.6/dist-packages (from google-api-core[grpc]<2.0.0dev,>=1.14.0->cirq->pennylane-cirq) (50.3.0)\n",
            "Requirement already satisfied: six>=1.10.0 in /usr/local/lib/python3.6/dist-packages (from google-api-core[grpc]<2.0.0dev,>=1.14.0->cirq->pennylane-cirq) (1.15.0)\n",
            "Requirement already satisfied: google-auth<2.0dev,>=0.4.0 in /usr/local/lib/python3.6/dist-packages (from google-api-core[grpc]<2.0.0dev,>=1.14.0->cirq->pennylane-cirq) (1.17.2)\n",
            "Requirement already satisfied: googleapis-common-protos<2.0dev,>=1.6.0 in /usr/local/lib/python3.6/dist-packages (from google-api-core[grpc]<2.0.0dev,>=1.14.0->cirq->pennylane-cirq) (1.52.0)\n",
            "Requirement already satisfied: grpcio<2.0dev,>=1.8.2; extra == \"grpc\" in /usr/local/lib/python3.6/dist-packages (from google-api-core[grpc]<2.0.0dev,>=1.14.0->cirq->pennylane-cirq) (1.32.0)\n",
            "Requirement already satisfied: python-dateutil!=2.0,>=1.0 in /usr/local/lib/python3.6/dist-packages (from freezegun~=0.3.15->cirq->pennylane-cirq) (2.8.1)\n",
            "Requirement already satisfied: urllib3!=1.25.0,!=1.25.1,<1.26,>=1.21.1 in /usr/local/lib/python3.6/dist-packages (from requests~=2.18->cirq->pennylane-cirq) (1.24.3)\n",
            "Requirement already satisfied: idna<3,>=2.5 in /usr/local/lib/python3.6/dist-packages (from requests~=2.18->cirq->pennylane-cirq) (2.10)\n",
            "Requirement already satisfied: certifi>=2017.4.17 in /usr/local/lib/python3.6/dist-packages (from requests~=2.18->cirq->pennylane-cirq) (2020.6.20)\n",
            "Requirement already satisfied: chardet<4,>=3.0.2 in /usr/local/lib/python3.6/dist-packages (from requests~=2.18->cirq->pennylane-cirq) (3.0.4)\n",
            "Requirement already satisfied: pyparsing!=2.0.4,!=2.1.2,!=2.1.6,>=2.0.1 in /usr/local/lib/python3.6/dist-packages (from matplotlib~=3.0->cirq->pennylane-cirq) (2.4.7)\n",
            "Requirement already satisfied: cycler>=0.10 in /usr/local/lib/python3.6/dist-packages (from matplotlib~=3.0->cirq->pennylane-cirq) (0.10.0)\n",
            "Requirement already satisfied: kiwisolver>=1.0.1 in /usr/local/lib/python3.6/dist-packages (from matplotlib~=3.0->cirq->pennylane-cirq) (1.2.0)\n",
            "Requirement already satisfied: mpmath>=0.19 in /usr/local/lib/python3.6/dist-packages (from sympy->cirq->pennylane-cirq) (1.1.0)\n",
            "Requirement already satisfied: rsa<5,>=3.1.4; python_version >= \"3\" in /usr/local/lib/python3.6/dist-packages (from google-auth<2.0dev,>=0.4.0->google-api-core[grpc]<2.0.0dev,>=1.14.0->cirq->pennylane-cirq) (4.6)\n",
            "Requirement already satisfied: pyasn1-modules>=0.2.1 in /usr/local/lib/python3.6/dist-packages (from google-auth<2.0dev,>=0.4.0->google-api-core[grpc]<2.0.0dev,>=1.14.0->cirq->pennylane-cirq) (0.2.8)\n",
            "Requirement already satisfied: cachetools<5.0,>=2.0.0 in /usr/local/lib/python3.6/dist-packages (from google-auth<2.0dev,>=0.4.0->google-api-core[grpc]<2.0.0dev,>=1.14.0->cirq->pennylane-cirq) (4.1.1)\n",
            "Requirement already satisfied: pyasn1>=0.1.3 in /usr/local/lib/python3.6/dist-packages (from rsa<5,>=3.1.4; python_version >= \"3\"->google-auth<2.0dev,>=0.4.0->google-api-core[grpc]<2.0.0dev,>=1.14.0->cirq->pennylane-cirq) (0.4.8)\n"
          ],
          "name": "stdout"
        }
      ]
    },
    {
      "cell_type": "code",
      "metadata": {
        "id": "nRq0ghrfaXu9"
      },
      "source": [
        "import pennylane as qml"
      ],
      "execution_count": 2,
      "outputs": []
    },
    {
      "cell_type": "code",
      "metadata": {
        "id": "6JPArwp1a2h_"
      },
      "source": [
        "from pennylane import numpy as np\n",
        "import matplotlib.pyplot as plt"
      ],
      "execution_count": 3,
      "outputs": []
    },
    {
      "cell_type": "code",
      "metadata": {
        "id": "KNqAO2VudUwk"
      },
      "source": [
        "pip install qiskit -q"
      ],
      "execution_count": 4,
      "outputs": []
    },
    {
      "cell_type": "code",
      "metadata": {
        "id": "ZfwlTsD0d_ch"
      },
      "source": [
        "pip install qiskit -q --upgrade"
      ],
      "execution_count": 5,
      "outputs": []
    },
    {
      "cell_type": "code",
      "metadata": {
        "id": "87Kvtt4FeEp_",
        "outputId": "00b72496-6a97-41b9-afd4-70db766a4fd9",
        "colab": {
          "base_uri": "https://localhost:8080/",
          "height": 185
        }
      },
      "source": [
        "pip install pennylane --upgrade"
      ],
      "execution_count": 6,
      "outputs": [
        {
          "output_type": "stream",
          "text": [
            "Requirement already up-to-date: pennylane in /usr/local/lib/python3.6/dist-packages (0.11.0)\n",
            "Requirement already satisfied, skipping upgrade: numpy in /usr/local/lib/python3.6/dist-packages (from pennylane) (1.18.5)\n",
            "Requirement already satisfied, skipping upgrade: autograd in /usr/local/lib/python3.6/dist-packages (from pennylane) (1.3)\n",
            "Requirement already satisfied, skipping upgrade: appdirs in /usr/local/lib/python3.6/dist-packages (from pennylane) (1.4.4)\n",
            "Requirement already satisfied, skipping upgrade: semantic-version==2.6 in /usr/local/lib/python3.6/dist-packages (from pennylane) (2.6.0)\n",
            "Requirement already satisfied, skipping upgrade: scipy in /usr/local/lib/python3.6/dist-packages (from pennylane) (1.4.1)\n",
            "Requirement already satisfied, skipping upgrade: toml in /usr/local/lib/python3.6/dist-packages (from pennylane) (0.10.1)\n",
            "Requirement already satisfied, skipping upgrade: networkx in /usr/local/lib/python3.6/dist-packages (from pennylane) (2.5)\n",
            "Requirement already satisfied, skipping upgrade: future>=0.15.2 in /usr/local/lib/python3.6/dist-packages (from autograd->pennylane) (0.16.0)\n",
            "Requirement already satisfied, skipping upgrade: decorator>=4.3.0 in /usr/local/lib/python3.6/dist-packages (from networkx->pennylane) (4.4.2)\n"
          ],
          "name": "stdout"
        }
      ]
    },
    {
      "cell_type": "code",
      "metadata": {
        "id": "yGC6SxyfeUVF"
      },
      "source": [
        ""
      ],
      "execution_count": 6,
      "outputs": []
    },
    {
      "cell_type": "code",
      "metadata": {
        "id": "UO6kofPmczsR",
        "outputId": "8123acae-5d04-4570-9fa7-80e67b1d40fa",
        "colab": {
          "base_uri": "https://localhost:8080/",
          "height": 1000
        }
      },
      "source": [
        "pip install pennylane-qiskit"
      ],
      "execution_count": 7,
      "outputs": [
        {
          "output_type": "stream",
          "text": [
            "Requirement already satisfied: pennylane-qiskit in /usr/local/lib/python3.6/dist-packages (0.11.0)\n",
            "Requirement already satisfied: networkx>=2.2; python_version > \"3.5\" in /usr/local/lib/python3.6/dist-packages (from pennylane-qiskit) (2.5)\n",
            "Requirement already satisfied: pyscf<=1.7.2 in /usr/local/lib/python3.6/dist-packages (from pennylane-qiskit) (1.7.2)\n",
            "Requirement already satisfied: numpy in /usr/local/lib/python3.6/dist-packages (from pennylane-qiskit) (1.18.5)\n",
            "Requirement already satisfied: qiskit>=0.20 in /usr/local/lib/python3.6/dist-packages (from pennylane-qiskit) (0.21.0)\n",
            "Requirement already satisfied: pennylane>=0.11.0 in /usr/local/lib/python3.6/dist-packages (from pennylane-qiskit) (0.11.0)\n",
            "Requirement already satisfied: decorator>=4.3.0 in /usr/local/lib/python3.6/dist-packages (from networkx>=2.2; python_version > \"3.5\"->pennylane-qiskit) (4.4.2)\n",
            "Requirement already satisfied: h5py in /usr/local/lib/python3.6/dist-packages (from pyscf<=1.7.2->pennylane-qiskit) (2.10.0)\n",
            "Requirement already satisfied: scipy in /usr/local/lib/python3.6/dist-packages (from pyscf<=1.7.2->pennylane-qiskit) (1.4.1)\n",
            "Requirement already satisfied: qiskit-aqua==0.7.5 in /usr/local/lib/python3.6/dist-packages (from qiskit>=0.20->pennylane-qiskit) (0.7.5)\n",
            "Requirement already satisfied: qiskit-aer==0.6.1 in /usr/local/lib/python3.6/dist-packages (from qiskit>=0.20->pennylane-qiskit) (0.6.1)\n",
            "Requirement already satisfied: qiskit-ibmq-provider==0.9.0 in /usr/local/lib/python3.6/dist-packages (from qiskit>=0.20->pennylane-qiskit) (0.9.0)\n",
            "Requirement already satisfied: qiskit-ignis==0.4.0 in /usr/local/lib/python3.6/dist-packages (from qiskit>=0.20->pennylane-qiskit) (0.4.0)\n",
            "Requirement already satisfied: qiskit-terra==0.15.2 in /usr/local/lib/python3.6/dist-packages (from qiskit>=0.20->pennylane-qiskit) (0.15.2)\n",
            "Requirement already satisfied: appdirs in /usr/local/lib/python3.6/dist-packages (from pennylane>=0.11.0->pennylane-qiskit) (1.4.4)\n",
            "Requirement already satisfied: toml in /usr/local/lib/python3.6/dist-packages (from pennylane>=0.11.0->pennylane-qiskit) (0.10.1)\n",
            "Requirement already satisfied: autograd in /usr/local/lib/python3.6/dist-packages (from pennylane>=0.11.0->pennylane-qiskit) (1.3)\n",
            "Requirement already satisfied: semantic-version==2.6 in /usr/local/lib/python3.6/dist-packages (from pennylane>=0.11.0->pennylane-qiskit) (2.6.0)\n",
            "Requirement already satisfied: six in /usr/local/lib/python3.6/dist-packages (from h5py->pyscf<=1.7.2->pennylane-qiskit) (1.15.0)\n",
            "Requirement already satisfied: sympy>=1.3 in /usr/local/lib/python3.6/dist-packages (from qiskit-aqua==0.7.5->qiskit>=0.20->pennylane-qiskit) (1.6.2)\n",
            "Requirement already satisfied: psutil>=5 in /usr/local/lib/python3.6/dist-packages (from qiskit-aqua==0.7.5->qiskit>=0.20->pennylane-qiskit) (5.4.8)\n",
            "Requirement already satisfied: quandl in /usr/local/lib/python3.6/dist-packages (from qiskit-aqua==0.7.5->qiskit>=0.20->pennylane-qiskit) (3.5.2)\n",
            "Requirement already satisfied: fastdtw in /usr/local/lib/python3.6/dist-packages (from qiskit-aqua==0.7.5->qiskit>=0.20->pennylane-qiskit) (0.3.4)\n",
            "Requirement already satisfied: scikit-learn>=0.20.0 in /usr/local/lib/python3.6/dist-packages (from qiskit-aqua==0.7.5->qiskit>=0.20->pennylane-qiskit) (0.22.2.post1)\n",
            "Requirement already satisfied: yfinance in /usr/local/lib/python3.6/dist-packages (from qiskit-aqua==0.7.5->qiskit>=0.20->pennylane-qiskit) (0.1.54)\n",
            "Requirement already satisfied: dlx in /usr/local/lib/python3.6/dist-packages (from qiskit-aqua==0.7.5->qiskit>=0.20->pennylane-qiskit) (1.0.4)\n",
            "Requirement already satisfied: docplex in /usr/local/lib/python3.6/dist-packages (from qiskit-aqua==0.7.5->qiskit>=0.20->pennylane-qiskit) (2.15.194)\n",
            "Requirement already satisfied: setuptools>=40.1.0 in /usr/local/lib/python3.6/dist-packages (from qiskit-aqua==0.7.5->qiskit>=0.20->pennylane-qiskit) (50.3.0)\n",
            "Requirement already satisfied: pandas in /usr/local/lib/python3.6/dist-packages (from qiskit-aqua==0.7.5->qiskit>=0.20->pennylane-qiskit) (1.0.5)\n",
            "Requirement already satisfied: cython>=0.27.1 in /usr/local/lib/python3.6/dist-packages (from qiskit-aer==0.6.1->qiskit>=0.20->pennylane-qiskit) (0.29.21)\n",
            "Requirement already satisfied: pybind11>=2.4 in /usr/local/lib/python3.6/dist-packages (from qiskit-aer==0.6.1->qiskit>=0.20->pennylane-qiskit) (2.5.0)\n",
            "Requirement already satisfied: nest-asyncio!=1.1.0,>=1.0.0 in /usr/local/lib/python3.6/dist-packages (from qiskit-ibmq-provider==0.9.0->qiskit>=0.20->pennylane-qiskit) (1.4.0)\n",
            "Requirement already satisfied: urllib3>=1.21.1 in /usr/local/lib/python3.6/dist-packages (from qiskit-ibmq-provider==0.9.0->qiskit>=0.20->pennylane-qiskit) (1.24.3)\n",
            "Requirement already satisfied: websockets<8,>=7; python_version <= \"3.6\" in /usr/local/lib/python3.6/dist-packages (from qiskit-ibmq-provider==0.9.0->qiskit>=0.20->pennylane-qiskit) (7.0)\n",
            "Requirement already satisfied: requests>=2.19 in /usr/local/lib/python3.6/dist-packages (from qiskit-ibmq-provider==0.9.0->qiskit>=0.20->pennylane-qiskit) (2.23.0)\n",
            "Requirement already satisfied: python-dateutil>=2.8.0 in /usr/local/lib/python3.6/dist-packages (from qiskit-ibmq-provider==0.9.0->qiskit>=0.20->pennylane-qiskit) (2.8.1)\n",
            "Requirement already satisfied: requests-ntlm>=1.1.0 in /usr/local/lib/python3.6/dist-packages (from qiskit-ibmq-provider==0.9.0->qiskit>=0.20->pennylane-qiskit) (1.1.0)\n",
            "Requirement already satisfied: fastjsonschema>=2.10 in /usr/local/lib/python3.6/dist-packages (from qiskit-terra==0.15.2->qiskit>=0.20->pennylane-qiskit) (2.14.5)\n",
            "Requirement already satisfied: ply>=3.10 in /usr/local/lib/python3.6/dist-packages (from qiskit-terra==0.15.2->qiskit>=0.20->pennylane-qiskit) (3.11)\n",
            "Requirement already satisfied: contextvars>=2.4; python_version < \"3.7\" in /usr/local/lib/python3.6/dist-packages (from qiskit-terra==0.15.2->qiskit>=0.20->pennylane-qiskit) (2.4)\n",
            "Requirement already satisfied: jsonschema>=2.6 in /usr/local/lib/python3.6/dist-packages (from qiskit-terra==0.15.2->qiskit>=0.20->pennylane-qiskit) (2.6.0)\n",
            "Requirement already satisfied: retworkx>=0.4.0 in /usr/local/lib/python3.6/dist-packages (from qiskit-terra==0.15.2->qiskit>=0.20->pennylane-qiskit) (0.5.0)\n",
            "Requirement already satisfied: dill>=0.3 in /usr/local/lib/python3.6/dist-packages (from qiskit-terra==0.15.2->qiskit>=0.20->pennylane-qiskit) (0.3.2)\n",
            "Requirement already satisfied: python-constraint>=1.4 in /usr/local/lib/python3.6/dist-packages (from qiskit-terra==0.15.2->qiskit>=0.20->pennylane-qiskit) (1.4.0)\n",
            "Requirement already satisfied: future>=0.15.2 in /usr/local/lib/python3.6/dist-packages (from autograd->pennylane>=0.11.0->pennylane-qiskit) (0.16.0)\n",
            "Requirement already satisfied: mpmath>=0.19 in /usr/local/lib/python3.6/dist-packages (from sympy>=1.3->qiskit-aqua==0.7.5->qiskit>=0.20->pennylane-qiskit) (1.1.0)\n",
            "Requirement already satisfied: inflection>=0.3.1 in /usr/local/lib/python3.6/dist-packages (from quandl->qiskit-aqua==0.7.5->qiskit>=0.20->pennylane-qiskit) (0.5.1)\n",
            "Requirement already satisfied: more-itertools in /usr/local/lib/python3.6/dist-packages (from quandl->qiskit-aqua==0.7.5->qiskit>=0.20->pennylane-qiskit) (8.5.0)\n",
            "Requirement already satisfied: joblib>=0.11 in /usr/local/lib/python3.6/dist-packages (from scikit-learn>=0.20.0->qiskit-aqua==0.7.5->qiskit>=0.20->pennylane-qiskit) (0.16.0)\n",
            "Requirement already satisfied: multitasking>=0.0.7 in /usr/local/lib/python3.6/dist-packages (from yfinance->qiskit-aqua==0.7.5->qiskit>=0.20->pennylane-qiskit) (0.0.9)\n",
            "Requirement already satisfied: pytz>=2017.2 in /usr/local/lib/python3.6/dist-packages (from pandas->qiskit-aqua==0.7.5->qiskit>=0.20->pennylane-qiskit) (2018.9)\n",
            "Requirement already satisfied: idna<3,>=2.5 in /usr/local/lib/python3.6/dist-packages (from requests>=2.19->qiskit-ibmq-provider==0.9.0->qiskit>=0.20->pennylane-qiskit) (2.10)\n",
            "Requirement already satisfied: certifi>=2017.4.17 in /usr/local/lib/python3.6/dist-packages (from requests>=2.19->qiskit-ibmq-provider==0.9.0->qiskit>=0.20->pennylane-qiskit) (2020.6.20)\n",
            "Requirement already satisfied: chardet<4,>=3.0.2 in /usr/local/lib/python3.6/dist-packages (from requests>=2.19->qiskit-ibmq-provider==0.9.0->qiskit>=0.20->pennylane-qiskit) (3.0.4)\n",
            "Requirement already satisfied: cryptography>=1.3 in /usr/local/lib/python3.6/dist-packages (from requests-ntlm>=1.1.0->qiskit-ibmq-provider==0.9.0->qiskit>=0.20->pennylane-qiskit) (3.1.1)\n",
            "Requirement already satisfied: ntlm-auth>=1.0.2 in /usr/local/lib/python3.6/dist-packages (from requests-ntlm>=1.1.0->qiskit-ibmq-provider==0.9.0->qiskit>=0.20->pennylane-qiskit) (1.5.0)\n",
            "Requirement already satisfied: immutables>=0.9 in /usr/local/lib/python3.6/dist-packages (from contextvars>=2.4; python_version < \"3.7\"->qiskit-terra==0.15.2->qiskit>=0.20->pennylane-qiskit) (0.14)\n",
            "Requirement already satisfied: cffi!=1.11.3,>=1.8 in /usr/local/lib/python3.6/dist-packages (from cryptography>=1.3->requests-ntlm>=1.1.0->qiskit-ibmq-provider==0.9.0->qiskit>=0.20->pennylane-qiskit) (1.14.2)\n",
            "Requirement already satisfied: pycparser in /usr/local/lib/python3.6/dist-packages (from cffi!=1.11.3,>=1.8->cryptography>=1.3->requests-ntlm>=1.1.0->qiskit-ibmq-provider==0.9.0->qiskit>=0.20->pennylane-qiskit) (2.20)\n"
          ],
          "name": "stdout"
        }
      ]
    },
    {
      "cell_type": "code",
      "metadata": {
        "id": "2Gn3RiXKhDoY"
      },
      "source": [
        "pip install autograd tensorflow>=1.13.2"
      ],
      "execution_count": 8,
      "outputs": []
    },
    {
      "cell_type": "code",
      "metadata": {
        "id": "54aktc6yhL3u",
        "outputId": "d72d9818-52fc-4f68-adcc-622f10a68c90",
        "colab": {
          "base_uri": "https://localhost:8080/",
          "height": 454
        }
      },
      "source": [
        "import pennylane as qml\n",
        "qml.about()"
      ],
      "execution_count": 9,
      "outputs": [
        {
          "output_type": "stream",
          "text": [
            "Name: PennyLane\n",
            "Version: 0.11.0\n",
            "Summary: PennyLane is a Python quantum machine learning library by Xanadu Inc.\n",
            "Home-page: https://github.com/XanaduAI/pennylane\n",
            "Author: None\n",
            "Author-email: None\n",
            "License: Apache License 2.0\n",
            "Location: /usr/local/lib/python3.6/dist-packages\n",
            "Requires: numpy, autograd, semantic-version, scipy, networkx, appdirs, toml\n",
            "Required-by: PennyLane-qiskit, PennyLane-Cirq\n",
            "Platform info:           Linux-4.19.112+-x86_64-with-Ubuntu-18.04-bionic\n",
            "Python version:          3.6.9\n",
            "Numpy version:           1.18.5\n",
            "Scipy version:           1.4.1\n",
            "Installed devices:\n",
            "- default.gaussian (PennyLane-0.11.0)\n",
            "- default.qubit (PennyLane-0.11.0)\n",
            "- default.qubit.autograd (PennyLane-0.11.0)\n",
            "- default.qubit.tf (PennyLane-0.11.0)\n",
            "- default.tensor (PennyLane-0.11.0)\n",
            "- default.tensor.tf (PennyLane-0.11.0)\n",
            "- qiskit.aer (PennyLane-qiskit-0.11.0)\n",
            "- qiskit.basicaer (PennyLane-qiskit-0.11.0)\n",
            "- qiskit.ibmq (PennyLane-qiskit-0.11.0)\n",
            "- cirq.mixedsimulator (PennyLane-Cirq-0.11.0)\n",
            "- cirq.simulator (PennyLane-Cirq-0.11.0)\n"
          ],
          "name": "stdout"
        }
      ]
    },
    {
      "cell_type": "code",
      "metadata": {
        "id": "wDN_-y8da6st"
      },
      "source": [
        "dev = qml.device(\"cirq.mixedsimulator\", wires=2)\n"
      ],
      "execution_count": 12,
      "outputs": []
    },
    {
      "cell_type": "code",
      "metadata": {
        "id": "gSwLNNV7eEFH"
      },
      "source": [
        "A1 = qml.PauliZ(0)\n",
        "A2 = qml.PauliX(0)\n",
        "B1 = qml.Hermitian(np.array([[1, 1], [1, -1]]) / np.sqrt(2), wires=1)\n",
        "B2 = qml.Hermitian(np.array([[1, -1], [-1, -1]]) / np.sqrt(2), wires=1)\n",
        "CHSH_observables = [A1 @ B1, A1 @ B2, A2 @ B1, A2 @ B2]\n"
      ],
      "execution_count": 13,
      "outputs": []
    },
    {
      "cell_type": "code",
      "metadata": {
        "id": "_OT1tZfeeDHY"
      },
      "source": [
        "# subcircuit for creating an entangled pair of qubits\n",
        "def bell_pair():\n",
        "    qml.Hadamard(wires=0)\n",
        "    qml.CNOT(wires=[0, 1])\n"
      ],
      "execution_count": 14,
      "outputs": []
    },
    {
      "cell_type": "code",
      "metadata": {
        "id": "U1-tMLP5eCJX"
      },
      "source": [
        "# circuits for measuring each distinct observable\n",
        "@qml.qnode(dev)\n",
        "def measure_A1B1():\n",
        "    bell_pair()\n",
        "    return qml.expval(A1 @ B1)\n",
        "\n",
        "@qml.qnode(dev)\n",
        "def measure_A1B2():\n",
        "    bell_pair()\n",
        "    return qml.expval(A1 @ B2)\n",
        "\n",
        "@qml.qnode(dev)\n",
        "def measure_A2B1():\n",
        "    bell_pair()\n",
        "    return qml.expval(A2 @ B1)\n",
        "\n",
        "@qml.qnode(dev)\n",
        "def measure_A2B2():\n",
        "    bell_pair()\n",
        "    return qml.expval(A2 @ B2)\n",
        "\n",
        "circuits = qml.QNodeCollection([measure_A1B1,\n",
        "                                measure_A1B2,\n",
        "                                measure_A2B1,\n",
        "                                measure_A2B2])"
      ],
      "execution_count": 15,
      "outputs": []
    },
    {
      "cell_type": "code",
      "metadata": {
        "id": "0AG2pnUGciNd"
      },
      "source": [
        "expvals = circuits()"
      ],
      "execution_count": 16,
      "outputs": []
    },
    {
      "cell_type": "code",
      "metadata": {
        "id": "e-v0fYAWikvh",
        "outputId": "a4736828-4f05-411b-a473-b90d8d2e78d1",
        "colab": {
          "base_uri": "https://localhost:8080/",
          "height": 34
        }
      },
      "source": [
        "CHSH_expval = np.sum(expvals[:3]) - expvals[3]\n",
        "print(CHSH_expval)"
      ],
      "execution_count": 17,
      "outputs": [
        {
          "output_type": "stream",
          "text": [
            "2.828426718711853\n"
          ],
          "name": "stdout"
        }
      ]
    },
    {
      "cell_type": "code",
      "metadata": {
        "id": "-hxBFUukioid",
        "outputId": "b045f057-d103-4098-96f6-a3fb209e9a60",
        "colab": {
          "base_uri": "https://localhost:8080/",
          "height": 118
        }
      },
      "source": [
        "from pennylane_cirq import ops as cirq_ops\n",
        "# Note that the 'Operation' op is a generic base class\n",
        "# from PennyLane core.\n",
        "# All other ops are provided by Cirq.\n",
        "available_ops = [op for op in dir(cirq_ops) if not op.startswith('_')]\n",
        "print(\"\\n\".join(available_ops))"
      ],
      "execution_count": 18,
      "outputs": [
        {
          "output_type": "stream",
          "text": [
            "AmplitudeDamp\n",
            "BitFlip\n",
            "Depolarize\n",
            "Operation\n",
            "PhaseDamp\n",
            "PhaseFlip\n"
          ],
          "name": "stdout"
        }
      ]
    },
    {
      "cell_type": "code",
      "metadata": {
        "id": "gOMMy4t7itKF",
        "outputId": "98fa328d-43f9-43bd-8f01-7c722b76345f",
        "colab": {
          "base_uri": "https://localhost:8080/",
          "height": 279
        }
      },
      "source": [
        "noise_vals = np.linspace(0, 1, 25)\n",
        "\n",
        "CHSH_vals = []\n",
        "noisy_expvals = []\n",
        "\n",
        "for p in noise_vals:\n",
        "    # we overwrite the bell_pair() subcircuit to add\n",
        "    # extra noisy channels after the entangled state is created\n",
        "    def bell_pair():\n",
        "        qml.Hadamard(wires=0)\n",
        "        qml.CNOT(wires=[0, 1])\n",
        "        cirq_ops.BitFlip(p, wires=0)\n",
        "        cirq_ops.BitFlip(p, wires=1)\n",
        "    # measuring the circuits will now use the new noisy bell_pair() function\n",
        "    expvals = circuits()\n",
        "    noisy_expvals.append(expvals)\n",
        "noisy_expvals = np.array(noisy_expvals)\n",
        "CHSH_expvals = np.sum(noisy_expvals[:,:3], axis=1) - noisy_expvals[:,3]\n",
        "\n",
        "# Plot the individual observables\n",
        "plt.plot(noise_vals, noisy_expvals[:, 0], 'D',\n",
        "         label = r\"$\\hat{A1}\\otimes \\hat{B1}$\", markersize=5)\n",
        "plt.plot(noise_vals, noisy_expvals[:, 1], 'x',\n",
        "         label = r\"$\\hat{A1}\\otimes \\hat{B2}$\", markersize=12)\n",
        "plt.plot(noise_vals, noisy_expvals[:, 2], '+',\n",
        "         label = r\"$\\hat{A2}\\otimes \\hat{B1}$\", markersize=10)\n",
        "plt.plot(noise_vals, noisy_expvals[:, 3], 'v',\n",
        "         label = r\"$\\hat{A2}\\otimes \\hat{B2}$\", markersize=10)\n",
        "plt.xlabel('Noise parameter')\n",
        "plt.ylabel(r'Expectation value $\\langle \\hat{A}_i\\otimes\\hat{B}_j\\rangle$')\n",
        "plt.legend()\n",
        "plt.show()"
      ],
      "execution_count": 19,
      "outputs": [
        {
          "output_type": "display_data",
          "data": {
            "image/png": "[encoded data removed]",
            "text/plain": [
              "<Figure size 432x288 with 1 Axes>"
            ]
          },
          "metadata": {
            "tags": [],
            "needs_background": "light"
          }
        }
      ]
    },
    {
      "cell_type": "code",
      "metadata": {
        "id": "ncEzP9lXi4Ol",
        "outputId": "b6561027-21ce-4ec2-9625-fdcb8ad3870a",
        "colab": {
          "base_uri": "https://localhost:8080/",
          "height": 279
        }
      },
      "source": [
        "plt.plot(noise_vals, CHSH_expvals, label=\"CHSH\")\n",
        "plt.plot(noise_vals, 2 * np.ones_like(noise_vals),\n",
        "         label=\"Quantum-classical boundary\")\n",
        "plt.xlabel('Noise parameter')\n",
        "plt.ylabel('CHSH Expectation value')\n",
        "plt.legend()\n",
        "plt.show()"
      ],
      "execution_count": 20,
      "outputs": [
        {
          "output_type": "display_data",
          "data": {
            "image/png": "[encoded data removed]",
            "text/plain": [
              "<Figure size 432x288 with 1 Axes>"
            ]
          },
          "metadata": {
            "tags": [],
            "needs_background": "light"
          }
        }
      ]
    },
    {
      "cell_type": "code",
      "metadata": {
        "id": "sheJ_5voi_1k",
        "outputId": "e150f261-b2d0-42a6-a394-287ef59f0ba9",
        "colab": {
          "base_uri": "https://localhost:8080/",
          "height": 34
        }
      },
      "source": [
        "@qml.qnode(dev)\n",
        "def circuit(gate_params, noise_param=0.0):\n",
        "    qml.RX(gate_params[0], wires=0)\n",
        "    qml.RY(gate_params[1], wires=0)\n",
        "    cirq_ops.Depolarize(noise_param, wires=0)\n",
        "    return qml.expval(qml.PauliZ(0))\n",
        "\n",
        "gate_pars = [0.54, 0.12]\n",
        "print(\"Expectation value:\", circuit(gate_pars))"
      ],
      "execution_count": 21,
      "outputs": [
        {
          "output_type": "stream",
          "text": [
            "Expectation value: 0.851540632545948\n"
          ],
          "name": "stdout"
        }
      ]
    },
    {
      "cell_type": "code",
      "metadata": {
        "id": "5N6N7gQBjHbs",
        "outputId": "5ada42af-1d92-4b38-ed40-9da17c68a71f",
        "colab": {
          "base_uri": "https://localhost:8080/",
          "height": 283
        }
      },
      "source": [
        "noise_vals = np.linspace(0., 1., 20)\n",
        "expvals = [circuit(gate_pars, noise_param=p) for p in noise_vals]\n",
        "\n",
        "plt.plot(noise_vals, expvals, label=\"Expectation value\")\n",
        "plt.plot(noise_vals, np.ones_like(noise_vals), '--', label=\"Highest possible\")\n",
        "plt.plot(noise_vals, -np.ones_like(noise_vals), '--', label=\"Lowest possible\")\n",
        "plt.ylabel(r\"Expectation value $\\langle \\hat{Z} \\rangle$\")\n",
        "plt.xlabel(r\"Noise strength $p$\")\n",
        "plt.legend()\n",
        "plt.show()"
      ],
      "execution_count": 22,
      "outputs": [
        {
          "output_type": "display_data",
          "data": {
            "image/png": "[encoded data removed]",
            "text/plain": [
              "<Figure size 432x288 with 1 Axes>"
            ]
          },
          "metadata": {
            "tags": [],
            "needs_background": "light"
          }
        }
      ]
    },
    {
      "cell_type": "code",
      "metadata": {
        "id": "4DUdMX-PjLQk",
        "outputId": "3bbcb1d2-0988-45b9-d474-fc386dbe59c8",
        "colab": {
          "base_uri": "https://localhost:8080/",
          "height": 437
        }
      },
      "source": [
        "# declare the cost functions to be optimized\n",
        "def cost(x):\n",
        "    return circuit(x, noise_param=0.0)\n",
        "\n",
        "def noisy_cost(x):\n",
        "    return circuit(x, noise_param=0.3)\n",
        "\n",
        "# initialize the optimizer\n",
        "opt = qml.GradientDescentOptimizer(stepsize=0.4)\n",
        "\n",
        "# set the number of steps\n",
        "steps = 100\n",
        "# set the initial parameter values\n",
        "init_params = np.array([0.011, 0.012])\n",
        "noisy_circuit_params = init_params\n",
        "params = init_params\n",
        "\n",
        "for i in range(steps):\n",
        "    # update the circuit parameters\n",
        "    # we can optimize both in the same training loop\n",
        "    params = opt.step(cost, params)\n",
        "    noisy_circuit_params = opt.step(noisy_cost, noisy_circuit_params)\n",
        "\n",
        "    if (i + 1) % 5 == 0:\n",
        "        print(\"Step {:5d}. Cost: {: .7f}; Noisy Cost: {: .7f}\"\n",
        "              .format(i + 1,\n",
        "                      cost(params),\n",
        "                      noisy_cost(noisy_circuit_params)))\n",
        "\n",
        "print(\"\\nOptimized rotation angles (noise-free case):\")\n",
        "print(\"({: .7f}, {: .7f})\".format(*params))\n",
        "print(\"Optimized rotation angles (noisy case):\")\n",
        "print(\"({: .7f}, {: .7f})\".format(*noisy_circuit_params))"
      ],
      "execution_count": 23,
      "outputs": [
        {
          "output_type": "stream",
          "text": [
            "Step     5. Cost:  0.9961779; Noisy Cost:  0.5993173\n",
            "Step    10. Cost:  0.8974948; Noisy Cost:  0.5941737\n",
            "Step    15. Cost:  0.1440492; Noisy Cost:  0.5527687\n",
            "Step    20. Cost: -0.1536868; Noisy Cost:  0.3309180\n",
            "Step    25. Cost: -0.9152617; Noisy Cost:  0.0470152\n",
            "Step    30. Cost: -0.9994047; Noisy Cost: -0.0519407\n",
            "Step    35. Cost: -0.9999964; Noisy Cost: -0.2980615\n",
            "Step    40. Cost: -1.0000000; Noisy Cost: -0.5561487\n",
            "Step    45. Cost: -1.0000000; Noisy Cost: -0.5969037\n",
            "Step    50. Cost: -1.0000000; Noisy Cost: -0.5997996\n",
            "Step    55. Cost: -1.0000000; Noisy Cost: -0.5999871\n",
            "Step    60. Cost: -1.0000000; Noisy Cost: -0.5999991\n",
            "Step    65. Cost: -1.0000000; Noisy Cost: -0.6000000\n",
            "Step    70. Cost: -1.0000000; Noisy Cost: -0.6000000\n",
            "Step    75. Cost: -1.0000000; Noisy Cost: -0.6000000\n",
            "Step    80. Cost: -1.0000000; Noisy Cost: -0.6000000\n",
            "Step    85. Cost: -1.0000000; Noisy Cost: -0.6000000\n",
            "Step    90. Cost: -1.0000000; Noisy Cost: -0.6000000\n",
            "Step    95. Cost: -1.0000000; Noisy Cost: -0.6000000\n",
            "Step   100. Cost: -1.0000000; Noisy Cost: -0.6000000\n",
            "\n",
            "Optimized rotation angles (noise-free case):\n",
            "( 0.0000000,  3.1415926)\n",
            "Optimized rotation angles (noisy case):\n",
            "( 0.0000000,  3.1415926)\n"
          ],
          "name": "stdout"
        }
      ]
    },
    {
      "cell_type": "code",
      "metadata": {
        "id": "6dRrn78TjQGG"
      },
      "source": [
        ""
      ],
      "execution_count": null,
      "outputs": []
    }
  ]
}